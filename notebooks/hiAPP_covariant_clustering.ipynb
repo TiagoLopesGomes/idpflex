{
 "cells": [
  {
   "cell_type": "markdown",
   "metadata": {},
   "source": [
    "# Clustering Example\n",
    "\n",
    "In this example we cluster a short trajectory (1000 frames) of the disordered peptide\n",
    "[hiAPP](https://www.ncbi.nlm.nih.gov/pubmed/24021023)\n",
    "\n",
    "We create a normalized covariance matrix using four different metrics:\n",
    "    - Radius of gyration\n",
    "    - Exposed solvent surface\n",
    "    - Asphericity\n",
    "    - End-to-end distance\n",
    "\n",
    "<a id='Table of Contents'></a><h3>Table of Contents</h3>\n",
    "<a href='#load_env'>Load Environment</a> \n",
    "<a href='#download_data'>Donwload Data</a>  \n",
    "<a href='#load_traj'>Loading the Trajectory</a>  \n",
    "<a href='#vis_traj'>Quick Trajectory Visualization</a> \n",
    "<a href='#clustering'>Clustering</a> \n",
    "<a href='#pdb_repr'>Extract PDB Files for Representative Structures</a>  \n",
    "<a href='#calc_rg'>Calculate Radius of Gyration</a>  \n",
    "<a href='#calc_e2e'>Calculate end-to-end distance</a>  \n",
    "<a href='#calc_sasa'>Calculate SASA</a>  \n",
    "<a href='#calc_asphericity'>Calculate Asphericity</a>  \n"
   ]
  },
  {
   "cell_type": "markdown",
   "metadata": {},
   "source": [
    "(<a href='#Table of Contents'>Top</a>)<a id='load_env'></a><h3>Load Environment</h3>"
   ]
  },
  {
   "cell_type": "code",
   "execution_count": null,
   "metadata": {},
   "outputs": [],
   "source": [
    "%matplotlib notebook\n",
    "import matplotlib.pyplot as plt\n",
    "plt.ion()\n",
    "\n",
    "import os\n",
    "import sys\n",
    "import subprocess\n",
    "import numpy as np\n",
    "import MDAnalysis as mda\n",
    "import nglview\n",
    "from tqdm import tqdm\n",
    "import pathos\n",
    "import multiprocessing\n",
    "from scipy.cluster.hierarchy import dendrogram\n",
    "\n",
    "from idpflex.cnextend import load_tree\n",
    "from idpflex.cluster import cluster_trajectory\n",
    "from idpflex.properties import (SaxsProperty, SecondaryStructureProperty, ResidueContactMap,\n",
    "                                RadiusOfGyration, EndToEnd, SaSa, Asphericity,\n",
    "                                propagator_size_weighted_sum)\n",
    "from idpflex.utils import write_frame\n",
    "from idpflex.bayes import fit_to_depth"
   ]
  },
  {
   "cell_type": "markdown",
   "metadata": {},
   "source": [
    "(<a href='#Table of Contents'>Top</a>)<a id='download_data'></a><h3>Donwload Data</h3>\n",
    "\n",
    "It's assumed <code>git</code> is installed in your system. Otherwise,\n",
    "[follow instructions](http://idpflex.readthedocs.io/en/latest/installation.html#testing-tutorials-data)\n",
    "to download and unpack your data to <code>/tmp/idpflex_data</code>."
   ]
  },
  {
   "cell_type": "code",
   "execution_count": null,
   "metadata": {},
   "outputs": [],
   "source": [
    "%%bash\n",
    "idpflex_data_dir=\"/tmp/idpflex_data\"\n",
    "if [ -d \"${idpflex_data_dir}\" ]; then\n",
    "    cd ${idpflex_data_dir}\n",
    "    git pull --rebase\n",
    "else\n",
    "    git clone https://github.com/jmborr/idpflex_data ${idpflex_data_dir}\n",
    "fi"
   ]
  },
  {
   "cell_type": "code",
   "execution_count": null,
   "metadata": {},
   "outputs": [],
   "source": [
    "idpflex_data_dir = '/tmp/idpflex_data'\n",
    "data_dir = os.path.join(idpflex_data_dir, 'data', 'simulation')\n",
    "print(data_dir)"
   ]
  },
  {
   "cell_type": "markdown",
   "metadata": {},
   "source": [
    "(<a href='#Table of Contents'>Top</a>)<a id='load_traj'></a><h3>Loading the Trajectory</h3>"
   ]
  },
  {
   "cell_type": "code",
   "execution_count": null,
   "metadata": {},
   "outputs": [],
   "source": [
    "simulation = mda.Universe(os.path.join(data_dir, 'hiAPP.pdb'),\n",
    "                          os.path.join(data_dir, 'hiAPP.xtc'))\n",
    "print('Number of frames in trajectory is ', simulation.trajectory.n_frames)"
   ]
  },
  {
   "cell_type": "markdown",
   "metadata": {},
   "source": [
    "(<a href='#Table of Contents'>Top</a>)<a id='vis_traj'></a><h3>Quick Trajectory Visualization</h3>"
   ]
  },
  {
   "cell_type": "code",
   "execution_count": null,
   "metadata": {},
   "outputs": [],
   "source": [
    "w_show = nglview.show_mdanalysis(simulation)\n",
    "w_show"
   ]
  },
  {
   "cell_type": "markdown",
   "metadata": {},
   "source": [
    "(<a href='#Table of Contents'>Top</a>)<a id='clustering'></a><h3>Clustering</h3>\n",
    "\n",
    "We cluster the trajectory in two steps:\n",
    "1. cluster the 1000 frames into 100 small clusters, producing 100 representative structures\n",
    "2. cluster all 100 representative structures in a hierarchichal tree.\n",
    "\n",
    "The first step will be obtained by splicing the trajectory into segments of 100 frames, and obtaining 10 representatives for each segment. Thus, we obtain a total of 100 representatives. See [clustering](http://idpflex.readthedocs.io/en/latest/idpflex/cluster.html) for more info.\n",
    "\n",
    "The two steps process makes more sense with large trajectories, for instance, a trajectory of $10^5$ frames that we cluster into 1000 representatives."
   ]
  },
  {
   "cell_type": "code",
   "execution_count": null,
   "metadata": {},
   "outputs": [],
   "source": [
    "cl = cluster_trajectory(simulation, segment_length=100, n_representatives=100)"
   ]
  },
  {
   "cell_type": "markdown",
   "metadata": {},
   "source": [
    "(<a href='#Table of Contents'>Top</a>)<a id='pdb_repr'></a><h3>Extract PDB Files for Representative Structures</h3>\n",
    "\n",
    "We extract PDB files for each of the 100 representatives and store under directory `/tmp/PDB`"
   ]
  },
  {
   "cell_type": "code",
   "execution_count": null,
   "metadata": {},
   "outputs": [],
   "source": [
    "pdb_names = ['/tmp/PDB/conf_{}.pdb'.format(idx) for idx in cl.idx]"
   ]
  },
  {
   "cell_type": "code",
   "execution_count": null,
   "metadata": {},
   "outputs": [],
   "source": [
    "subprocess.call(['mkdir', '-p', '/tmp/PDB'])  # directory to store the PDB files\n",
    "for idx, name in tqdm(list(zip(cl.idx, pdb_names))):\n",
    "    write_frame(simulation, idx, name)"
   ]
  },
  {
   "cell_type": "markdown",
   "metadata": {},
   "source": [
    "(<a href='#Table of Contents'>Top</a>)<a id='calc_rg'></a><h3>Calculate Radius of Gyration</h3>\n",
    "\n",
    "We calculate $Rg$ for each representative and propagate up the cluster tree. Property name is `'rg'`. This radius of gyration does not take into account the hydration layer.  \n",
    "We plot a histogram of Rg for the 100 representatives."
   ]
  },
  {
   "cell_type": "code",
   "execution_count": null,
   "metadata": {},
   "outputs": [],
   "source": [
    "rg_properties = [RadiusOfGyration().from_pdb(name) for name in pdb_names]  # Rg for each representative\n",
    "propagator_size_weighted_sum(rg_properties, cl.tree)\n",
    "cl.tree.root['rg'].plot(kind='histogram', errors=True)"
   ]
  },
  {
   "cell_type": "markdown",
   "metadata": {},
   "source": [
    "(<a href='#Table of Contents'>Top</a>)<a id='calc_e2e'></a><h3>Calculate end-to-end distance</h3>\n",
    "\n",
    "We calculate end-to-end for each representative and propagate up the cluster tree. Property name is `'end_to_end'`.  \n",
    "We plot a histogram of `'end_to_end'` for the 100 representatives."
   ]
  },
  {
   "cell_type": "code",
   "execution_count": null,
   "metadata": {},
   "outputs": [],
   "source": [
    "e2e_properties = [EndToEnd().from_pdb(name) for name in pdb_names]  # Rg for each representative\n",
    "propagator_size_weighted_sum(e2e_properties, cl.tree)\n",
    "cl.tree.root['end_to_end'].plot(kind='histogram', errors=True)"
   ]
  },
  {
   "cell_type": "markdown",
   "metadata": {},
   "source": [
    "(<a href='#Table of Contents'>Top</a>)<a id='calc_sasa'></a><h3>Calculate SASA</h3>\n",
    "\n",
    "We calculate the solvent accessible surface area (SASA) for each representative and propagate up the cluster tree. Property name is `'sasa'`.  \n",
    "We plot a histogram of `'sasa'` for the 100 representatives."
   ]
  },
  {
   "cell_type": "code",
   "execution_count": null,
   "metadata": {},
   "outputs": [],
   "source": [
    "sasa_properties = [SaSa().from_pdb(name) for name in pdb_names]  # Rg for each representative\n",
    "propagator_size_weighted_sum(sasa_properties, cl.tree)\n",
    "cl.tree.root['sasa'].plot(kind='histogram', errors=True)"
   ]
  },
  {
   "cell_type": "markdown",
   "metadata": {},
   "source": [
    "(<a href='#Table of Contents'>Top</a>)<a id='calc_asphericity'></a><h3>Calculate Asphericity</h3>\n",
    "\n",
    "We calculate the asphericity for each representative and propagate up the cluster tree. Property name is `'asphericity'`.  \n",
    "We plot a histogram of `'asphericity'` for the 100 representatives.\n",
    "\n",
    "Reference: https://pubs.acs.org/doi/pdf/10.1021/ja206839u"
   ]
  },
  {
   "cell_type": "code",
   "execution_count": null,
   "metadata": {},
   "outputs": [],
   "source": [
    "asphericity_properties = [Asphericity().from_pdb(name) for name in pdb_names]  # Rg for each representative\n",
    "propagator_size_weighted_sum(asphericity_properties, cl.tree)\n",
    "cl.tree.root['asphericity'].plot(kind='histogram', errors=True)"
   ]
  },
  {
   "cell_type": "code",
   "execution_count": null,
   "metadata": {},
   "outputs": [],
   "source": []
  }
 ],
 "metadata": {
  "kernelspec": {
   "display_name": "Python 2",
   "language": "python",
   "name": "python2"
  },
  "language_info": {
   "codemirror_mode": {
    "name": "ipython",
    "version": 2
   },
   "file_extension": ".py",
   "mimetype": "text/x-python",
   "name": "python",
   "nbconvert_exporter": "python",
   "pygments_lexer": "ipython2",
   "version": "2.7.12"
  }
 },
 "nbformat": 4,
 "nbformat_minor": 2
}
