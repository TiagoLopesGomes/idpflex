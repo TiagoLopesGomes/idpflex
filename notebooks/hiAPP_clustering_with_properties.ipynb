{
 "cells": [
  {
   "cell_type": "markdown",
   "metadata": {},
   "source": [
    "# Clustering Example\n",
    "\n",
    "In this example we cluster a short trajectory (1000 frames) of the disordered peptide\n",
    "[hiAPP](https://www.ncbi.nlm.nih.gov/pubmed/24021023)\n",
    "\n",
    "We create a normalized covariance matrix using four different metrics:\n",
    "    - Radius of gyration\n",
    "    - Exposed solvent surface\n",
    "    - Asphericity\n",
    "    - End-to-end distance\n",
    "\n",
    "<a id='Table of Contents'></a><h3>Table of Contents</h3>\n",
    "<a href='#load_env'>Load Environment</a> \n",
    "<a href='#download_data'>Donwload Data</a>  \n",
    "<a href='#load_traj'>Loading the Trajectory</a>  \n",
    "<a href='#vis_traj'>Quick Trajectory Visualization</a>  \n",
    "<a href='#clustering'>Clustering</a>  \n",
    "<a href='#vis_cluster_tree'>Quick View of the Clustering Tree</a>  \n",
    "<a href='#pdb_repr'>Extract PDB Files for Representative Structures</a>  \n",
    "<a href='#xray_crysol'>Calculation of X-Ray Profiles with CRYSOL</a>  \n",
    "<a href='#bench_xray'>\"Experimental\" X-Ray profile</a>  \n",
    "<a href='#fit_tree'>Fit the Tree Against the Experimental Profile</a>  \n",
    "<a href='#best_fit'>Analysis of the Tree Level with Best Fit to Experimental Profile</a>  \n",
    "<a href='#weight_cluster'>Weight of Each Cluster</a>  \n",
    "\n"
   ]
  },
  {
   "cell_type": "markdown",
   "metadata": {},
   "source": [
    "(<a href='#Table of Contents'>Top</a>)<a id='load_env'></a><h3>Update Environment</h3>\n",
    "\n",
    "Python packages specific to the example notebooks may be needed to install. Use either `pip` or `conda`.\n",
    "\n",
    "**Packages installed with conda**: [conda_requirements.yml](https://raw.githubusercontent.com/jmborr/idpflex/master/notebooks/conda_requirements.yml)    \n",
    "`conda env update -f conda_requirements.yml`\n",
    "\n",
    "**Packages installed with pip**: [pip_requirements.txt](https://raw.githubusercontent.com/jmborr/idpflex/master/notebooks/pip_requirements.txt)   \n",
    "`pip install -r pip_requirements.txt`"
   ]
  },
  {
   "cell_type": "markdown",
   "metadata": {},
   "source": [
    "(<a href='#Table of Contents'>Top</a>)<a id='load_env'></a><h3>Load Environment</h3>"
   ]
  },
  {
   "cell_type": "code",
   "execution_count": null,
   "metadata": {},
   "outputs": [],
   "source": [
    "%matplotlib notebook\n",
    "import matplotlib.pyplot as plt\n",
    "plt.ion()\n",
    "\n",
    "import os\n",
    "import sys\n",
    "import subprocess\n",
    "import numpy as np\n",
    "import MDAnalysis as mda\n",
    "import nglview\n",
    "from tqdm import tqdm\n",
    "import pathos\n",
    "import multiprocessing\n",
    "import numpy as np\n",
    "import scipy\n",
    "from scipy.cluster.hierarchy import dendrogram\n",
    "\n",
    "from idpflex.cnextend import load_tree\n",
    "from idpflex.cluster import cluster_with_properties\n",
    "from idpflex.properties import (RadiusOfGyration, EndToEnd, SaSa, Asphericity,\n",
    "                               SaxsProperty, propagator_size_weighted_sum)\n",
    "from idpflex.utils import write_frame\n",
    "from idpflex.bayes import fit_to_depth"
   ]
  },
  {
   "cell_type": "markdown",
   "metadata": {},
   "source": [
    "(<a href='#Table of Contents'>Top</a>)<a id='download_data'></a><h3>Donwload Data</h3>\n",
    "\n",
    "It's assumed <code>git</code> is installed in your system. Otherwise,\n",
    "[follow instructions](http://idpflex.readthedocs.io/en/latest/installation.html#testing-tutorials-data)\n",
    "to download and unpack your data to <code>/tmp/idpflex_data</code>."
   ]
  },
  {
   "cell_type": "code",
   "execution_count": null,
   "metadata": {},
   "outputs": [],
   "source": [
    "%%bash\n",
    "idpflex_data_dir=\"/tmp/idpflex_data\"\n",
    "if [ -d \"${idpflex_data_dir}\" ]; then\n",
    "    cd ${idpflex_data_dir}\n",
    "    git pull --rebase\n",
    "else\n",
    "    git clone https://github.com/jmborr/idpflex_data ${idpflex_data_dir}\n",
    "fi"
   ]
  },
  {
   "cell_type": "code",
   "execution_count": null,
   "metadata": {},
   "outputs": [],
   "source": [
    "idpflex_data_dir = '/tmp/idpflex_data'\n",
    "data_dir = os.path.join(idpflex_data_dir, 'data', 'simulation')\n",
    "print(data_dir)"
   ]
  },
  {
   "cell_type": "markdown",
   "metadata": {},
   "source": [
    "(<a href='#Table of Contents'>Top</a>)<a id='load_traj'></a><h3>Loading the Trajectory</h3>"
   ]
  },
  {
   "cell_type": "code",
   "execution_count": null,
   "metadata": {},
   "outputs": [],
   "source": [
    "simulation = mda.Universe(os.path.join(data_dir, 'hiAPP.pdb'),\n",
    "                          os.path.join(data_dir, 'hiAPP.xtc'))\n",
    "print('Number of frames in trajectory is ', simulation.trajectory.n_frames)"
   ]
  },
  {
   "cell_type": "markdown",
   "metadata": {},
   "source": [
    "(<a href='#Table of Contents'>Top</a>)<a id='vis_traj'></a><h3>Quick Trajectory Visualization</h3>"
   ]
  },
  {
   "cell_type": "code",
   "execution_count": null,
   "metadata": {},
   "outputs": [],
   "source": [
    "w_show = nglview.show_mdanalysis(simulation)\n",
    "w_show"
   ]
  },
  {
   "cell_type": "markdown",
   "metadata": {},
   "source": [
    "(<a href='#Table of Contents'>Top</a>)<a id='clustering'></a><h3>Clustering</h3>\n",
    "\n",
    "We cluster usin four different scalar properties\n",
    "\n",
    "* Radius of gyration\n",
    "* End to end distance\n",
    "* Solvent accessible surface area\n",
    "* Asphericity"
   ]
  },
  {
   "cell_type": "code",
   "execution_count": null,
   "metadata": {},
   "outputs": [],
   "source": [
    "properties = [RadiusOfGyration, EndToEnd, SaSa, Asphericity]\n",
    "cl = cluster_with_properties(simulation, properties,\n",
    "                             segment_length=100, n_representatives=100)"
   ]
  },
  {
   "cell_type": "markdown",
   "metadata": {},
   "source": [
    "(<a href='#Table of Contents'>Top</a>)<a id='vis_cluster_tree'></a><h3>Quick View of the Clustering Tree</h3>"
   ]
  },
  {
   "cell_type": "code",
   "execution_count": null,
   "metadata": {},
   "outputs": [],
   "source": [
    "plt.title('Hierarchical Clustering Dendrogram')\n",
    "plt.xlabel('sample index')\n",
    "plt.ylabel('RMSD (Angstroms)')\n",
    "dendrogram(cl.tree.z,\n",
    "           truncate_mode='lastp',  # show only the last p merged clusters\n",
    "           p=10,  # show this many cluster at the bottom of the tree\n",
    "           show_leaf_counts=False,  # otherwise numbers in brackets are counts\n",
    "           leaf_rotation=90.,\n",
    "           leaf_font_size=12.,\n",
    "           show_contracted=True,  # to get a distribution impression in truncated branches\n",
    "          )"
   ]
  },
  {
   "cell_type": "markdown",
   "metadata": {},
   "source": [
    "(<a href='#Table of Contents'>Top</a>)<a id='pdb_repr'></a><h3>Extract PDB Files for Representative Structures</h3>\n",
    "\n",
    "We extract PDB files for each of the 100 representatives and store under directory `/tmp/PDB`"
   ]
  },
  {
   "cell_type": "code",
   "execution_count": null,
   "metadata": {},
   "outputs": [],
   "source": [
    "pdb_names = ['/tmp/PDB/conf_{}.pdb'.format(idx) for idx in cl.idx]\n",
    "\n",
    "subprocess.call(['mkdir', '-p', '/tmp/PDB'])  # directory to store the PDB files\n",
    "for idx, name in tqdm(list(zip(cl.idx, pdb_names))):\n",
    "    write_frame(simulation, idx, name)"
   ]
  },
  {
   "cell_type": "markdown",
   "metadata": {},
   "source": [
    "(<a href='#Table of Contents'>Top</a>)<a id='xray_crysol'></a><h3>Calculation of X-Ray Profiles with CRYSOL</h3>\n",
    "\n",
    "It is assumed that `crysol` is installed in your computer, otherwise we fetch the output CRYSOL files from the `idpflex_data` repository. We store a profile for each representative in directory `/tmp/CRYSOL`."
   ]
  },
  {
   "cell_type": "code",
   "execution_count": null,
   "metadata": {},
   "outputs": [],
   "source": [
    "crysol_names = ['/tmp/CRYSOL/conf_{}.int'.format(idx) for idx in cl.idx]\n",
    "\n",
    "if find_executable('crysol') is None:\n",
    "    subprocess.call('cp /tmp/idpflex_data/data/simulation/CRYSOL.tar.gz /tmp'.split())\n",
    "    subprocess.call('tar zxf /tmp/CRYSOL.tar.gz -C /tmp'.split())\n",
    "    profiles = [SaxsProperty().from_crysol_int(name) for name in crysol_names]\n",
    "else:\n",
    "    pool = pathos.pools.ProcessPool(processes=multiprocessing.cpu_count())\n",
    "    profiles = list(tqdm(pool.map(SaxsProperty().from_crysol_pdb, pdb_names), total=len(pdb_names)))"
   ]
  },
  {
   "cell_type": "code",
   "execution_count": null,
   "metadata": {},
   "outputs": [],
   "source": [
    "[profile.to_ascii(name) for profile, name in zip(profiles, crysol_names)]\n",
    "propagator_size_weighted_sum(profiles, cl.tree)"
   ]
  },
  {
   "cell_type": "markdown",
   "metadata": {},
   "source": [
    "(<a href='#Table of Contents'>Top</a>)<a id='bench_xray'></a><h3>\"Experimental\" X-Ray profile</h3>\n",
    "\n",
    "We do not have an experimental profile], so we are going to create a fake experimental profile using the profiles from some of the nodes. The task for the fit engine will be to identify which nodes did we use.\n",
    "\n",
    "Starting from the top of the tree (the root node), we will descend to `level=5`, which contains 6 nodes (the first level is the root node corresponding to `level=0`) We will assign different weights to each of the seven profiles and construct our profile with these weigths.\n",
    "\n",
    "The profile will be stored as a [SAXS property](http://idpflex.readthedocs.io/en/latest/idpflex/properties.html#idpflex.properties.SaxsProperty)"
   ]
  },
  {
   "cell_type": "code",
   "execution_count": null,
   "metadata": {},
   "outputs": [],
   "source": [
    "nodes = cl.tree.nodes_at_depth(5)\n",
    "weights = np.asarray([0.00, 0.13, 0.00, 0.55, 0.32, 0.00])  # the weights add up to one\n",
    "# x are the Q-values\n",
    "x = nodes[0]['saxs'].x\n",
    "# y are the intensities\n",
    "y = np.sum(weights.reshape((6, 1)) * np.asarray([n['saxs'].y for n in nodes]), axis=0)\n",
    "# Errors simple taken as 10% of the intensities\n",
    "e = y * 0.1\n",
    "# Now we create our X-Ray property\n",
    "exp_saxs = SaxsProperty(qvalues=x, profile=y, errors=e)"
   ]
  },
  {
   "cell_type": "markdown",
   "metadata": {},
   "source": [
    "we can plot the property"
   ]
  },
  {
   "cell_type": "code",
   "execution_count": null,
   "metadata": {},
   "outputs": [],
   "source": [
    "fig, ax = plt.subplots(1,1)\n",
    "ax.plot(exp_saxs.x, exp_saxs.y)\n",
    "ax.set_xlabel('Q', size=25)\n",
    "ax.set_ylabel('Intensity', size=25)\n",
    "plt.tight_layout()"
   ]
  },
  {
   "cell_type": "markdown",
   "metadata": {},
   "source": [
    "(<a href='#Table of Contents'>Top</a>)<a id='fit_tree'></a><h3>Fit the Tree Against the Experimental Profile</h3>\n",
    "\n",
    "Starting from the root node, we fit each tree level against the experimental profile, up to a maximum depth (in this case, `level=7`. Then we will inquire the goodnes of fit for each level"
   ]
  },
  {
   "cell_type": "code",
   "execution_count": null,
   "metadata": {},
   "outputs": [],
   "source": [
    "fits = fit_to_depth(cl.tree, exp_saxs, exp_saxs.name, max_depth=7)"
   ]
  },
  {
   "cell_type": "markdown",
   "metadata": {},
   "source": [
    "`fits` is a list of [ModelResult](https://lmfit.github.io/lmfit-py/model.html#lmfit.model.ModelResult) instances, one result for every level. We extract the goodness of fit `\\chi^2` and plot versus level"
   ]
  },
  {
   "cell_type": "code",
   "execution_count": null,
   "metadata": {},
   "outputs": [],
   "source": [
    "chi2 = [fit.redchi for fit in fits]\n",
    "fig, ax = plt.subplots(1,1)\n",
    "ax.set_xlabel('level', size=25)\n",
    "ax.set_ylabel('Chi-squared', size=25)\n",
    "ax.set_yscale('log')\n",
    "ax.plot(chi2)\n",
    "plt.tight_layout()"
   ]
  },
  {
   "cell_type": "markdown",
   "metadata": {},
   "source": [
    "the steep drop in orders of magnitude for $\\chi^2$ at `level=5` indicates the fit engine successfully fitted the experimental profile."
   ]
  },
  {
   "cell_type": "markdown",
   "metadata": {},
   "source": [
    "(<a href='#Table of Contents'>Top</a>)<a id='best_fit'></a><h3>Analysis of the Tree Level with Best Fit to Experimental Profile</h3>"
   ]
  },
  {
   "cell_type": "code",
   "execution_count": null,
   "metadata": {},
   "outputs": [],
   "source": [
    "best_fit = fits[5]"
   ]
  },
  {
   "cell_type": "markdown",
   "metadata": {},
   "source": [
    "(<a href='#Table of Contents'>Top</a>)<a id='weight_cluster'></a><h3>Weight of Each Cluster</h3>\n",
    "\n",
    "We inquire the weight that the fit engine assigned to each of the seven clusters of `level=6`"
   ]
  },
  {
   "cell_type": "code",
   "execution_count": null,
   "metadata": {},
   "outputs": [],
   "source": [
    "for key in best_fit.best_values:\n",
    "    if 'amplitude' in key:\n",
    "        print(key, '{:4.2f}'.format(best_fit.best_values[key]))\n",
    "print(['{:4.2f}'.format(x) for x in weights])  # weights used to construct the experimental profile"
   ]
  },
  {
   "cell_type": "markdown",
   "metadata": {},
   "source": [
    "The order in which the fitted weights are printed is different that the order of the experimental weight. Object `best_fit.best_values` is a python dictionary and order is not guaranteed for this type of object. However, we can use the node id in the amplitude name to sort the fitted weights from smaller to higher node id.\n",
    "\n",
    "The fit procedure correctly identified that only three out of the seven nodes are contributing to the experimental profile."
   ]
  },
  {
   "cell_type": "markdown",
   "metadata": {},
   "source": [
    "(<a href='#Table of Contents'>Top</a>)<a id='node_repr'></a><h3>Representative Structures of the Nodes</h3>\n",
    "\n",
    "Find a representative structure for each of the three nodes contributing to the match of the experimental profile"
   ]
  },
  {
   "cell_type": "code",
   "execution_count": null,
   "metadata": {},
   "outputs": [],
   "source": [
    "node_ids = [190, 192, 193]  # ID's for the clusters matching the experimental profile \n",
    "leafs = [cl.tree[id].representative(cl.rmsd) for id in node_ids]\n",
    "repr_names = [pdb_names[l.id] for l in leafs]  # representative structures for each node\n",
    "print(repr_names)"
   ]
  },
  {
   "cell_type": "code",
   "execution_count": null,
   "metadata": {},
   "outputs": [],
   "source": [
    "view = nglview.show_file(repr_names[0])\n",
    "view.display()"
   ]
  },
  {
   "cell_type": "code",
   "execution_count": null,
   "metadata": {},
   "outputs": [],
   "source": [
    "view = nglview.show_file(repr_names[1])\n",
    "view.display()"
   ]
  },
  {
   "cell_type": "code",
   "execution_count": null,
   "metadata": {},
   "outputs": [],
   "source": [
    "view = nglview.show_file(repr_names[2])\n",
    "view.display()"
   ]
  }
 ],
 "metadata": {
  "kernelspec": {
   "display_name": "Python 2",
   "language": "python",
   "name": "python2"
  },
  "language_info": {
   "codemirror_mode": {
    "name": "ipython",
    "version": 2
   },
   "file_extension": ".py",
   "mimetype": "text/x-python",
   "name": "python",
   "nbconvert_exporter": "python",
   "pygments_lexer": "ipython2",
   "version": "2.7.12"
  }
 },
 "nbformat": 4,
 "nbformat_minor": 2
}
